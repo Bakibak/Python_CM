{
 "cells": [
  {
   "cell_type": "markdown",
   "metadata": {},
   "source": [
    "# Введение в Python.\n",
    "\n",
    "***Валерия Бакланова (vbaklanova@hse.ru)***"
   ]
  },
  {
   "cell_type": "markdown",
   "metadata": {},
   "source": [
    "Компьютерная программа — список команд (инструкций) для компьютера.\n",
    "\n",
    "Команды могут быть любыми, например:\n",
    "\n",
    "* считать информацию с клавиатуры;\n",
    "* произвести арифметические вычисления (+, −, *, /);\n",
    "* вывести информацию на экран.\n",
    "\n",
    "\n",
    "Язык программирования — набор определенных правил, по которым компьютер может понимать команды (инструкции) и выполнять их. Текст программы на любом языке программирования, называется программным кодом.\n",
    "\n",
    "Языки программирования бывают компилируемые и интерпретируемые. Если программа написана на компилируемом языке (C, C++, Pascal), то перед выполнением её нужно полностью проверить на наличие синтаксических ошибок и уже после этого перевести в понятную для компьютера форму — машинный код. Это делает специальная программа, которая называется компилятором.\n",
    "\n",
    "Если программа написана на интерпретируемом языке (Python, PHP, Ruby), она не переводится в машинный код целиком. Вместо этого специальная программа, которая называется интерпретатором, идет по коду, анализирует его и выполняет каждую отдельную команду."
   ]
  },
  {
   "cell_type": "markdown",
   "metadata": {},
   "source": [
    "## 0. Знакомство с Jupyter Notebook\n",
    "\n",
    "Jupyter Notebook чем-то похож на текстовый редактор: есть меню, панель инструментов и поле для работы, которое состоит из ячеек (*cells*). Ячейки могут содержать как код, так и текст (неразмеченный и размеченный). Комментарии в ячейках с кодом должны начинаться со знака `#`.\n",
    "\n",
    "Пример ячейки с кодом:"
   ]
  },
  {
   "cell_type": "code",
   "execution_count": 1,
   "metadata": {},
   "outputs": [
    {
     "name": "stdout",
     "output_type": "stream",
     "text": [
      "3 0.2\n"
     ]
    }
   ],
   "source": [
    "a = 3 # создаем переменную a и присваиваем ей значение 3\n",
    "b = 0.2 \n",
    "\n",
    "# комментарий 1\n",
    "# комментарий 2\n",
    "\n",
    "print(a, b) # выводим на экран значения переменных A и B"
   ]
  },
  {
   "cell_type": "markdown",
   "metadata": {},
   "source": [
    "По умолчанию тип ячейки *Code*, это можно увидеть на панели под меню. Чтобы изменить тип ячейки, нужно нажать на стрелочку вниз и выбрать нужный вариант. Всего вариантов четыре: *Code*, *Markdown*, *RawNBConvert* и *Heading*.\n",
    "\n",
    "* *Code*: ячейка с кодом Python;\n",
    "* *Markdown*: ячейка с размеченным текстом, язык разметки Markdown;\n",
    "* *RawNBConvert*: неразмеченный «сырой» текст, без курсива/полужирного шрифта;\n",
    "* *Heading*: устарел, раньше использовался для заголовков, сейчас их нужно создавать в режиме *Markdown*."
   ]
  },
  {
   "cell_type": "markdown",
   "metadata": {},
   "source": [
    "Примеры ячеек с размеченным текстом (язык разметки Markdown, почитать про него можно [здесь](https://jupyter-notebook.readthedocs.io/en/latest/examples/Notebook/Working%20With%20Markdown%20Cells.html) и [здесь](http://nestacms.com/docs/creating-content/markdown-cheat-sheet)) — см. ниже."
   ]
  },
  {
   "cell_type": "markdown",
   "metadata": {},
   "source": [
    "### Что можно делать с помощью Markdown?\n",
    "\n",
    "Выделять заголовки разных уровней.\n",
    "\n",
    "На входе:\n",
    "\n",
    "    # Заголовок 1\n",
    "    ## Заголовок 2\n",
    "    ### Заголовок 3\n",
    "    \n",
    "На выходе:"
   ]
  },
  {
   "cell_type": "markdown",
   "metadata": {},
   "source": [
    "# Заголовок 1\n",
    "## Заголовок 2\n",
    "### Заголовок 3"
   ]
  },
  {
   "cell_type": "markdown",
   "metadata": {},
   "source": [
    "Выделять части текста с помощью *курсива* или **полужирного начертания**. Или даже <s>зачеркивать</s>. Вот так этот текст выглядит в размеченном виде:\n",
    "\n",
    "       Выделять части текста с помощью *курсива* или **полужирного начертания**. Или даже <s>зачеркивать</s>."
   ]
  },
  {
   "cell_type": "markdown",
   "metadata": {},
   "source": [
    "Добавлять списки разного вида. \n",
    "\n",
    "**Ненумерованный список.** \n",
    "\n",
    "На входе:\n",
    "\n",
    "    * пункт 1\n",
    "    * пункт 2\n",
    "    * пункт 3\n",
    "\n",
    "На выходе:\n",
    "\n",
    "* пункт 1\n",
    "* пункт 2\n",
    "* пункт 3"
   ]
  },
  {
   "cell_type": "markdown",
   "metadata": {},
   "source": [
    "**Нумерованный список:**\n",
    "\n",
    "На входе:\n",
    "\n",
    "    1. Во-первых,...\n",
    "    2. Во-вторых,...\n",
    "    3. В-третьих,...\n",
    "    \n",
    "На выходе: \n",
    "\n",
    "1. Во-первых,...\n",
    "2. Во-вторых,...\n",
    "3. В-третьих,...\n"
   ]
  },
  {
   "cell_type": "markdown",
   "metadata": {},
   "source": [
    "### Знакомство с Jupyter Notebook\n",
    "\n",
    "Jupyter Notebook чем-то похож на текстовый редактор: есть меню, панель инструментов и поле для работы, которое состоит из ячеек (*cells*). Ячейки могут содержать как код, так и текст (неразмеченный и размеченный). Комментарии в ячейках с кодом должны начинаться со знака `#`.\n",
    "\n",
    "Пример ячейки с кодом:\n",
    "\n",
    "a = 3 # создаем переменную a и присваиваем ей значение 3\n",
    "b = 0.2 \n",
    "\n",
    "# комментарий 1\n",
    "# комментарий 2\n",
    "\n",
    "print(a, b) # выводим на экран значения переменных A и B\n",
    "\n",
    "По умолчанию тип ячейки *Code*, это можно увидеть на панели под меню. Чтобы изменить тип ячейки, нужно нажать на стрелочку вниз и выбрать нужный вариант. Всего вариантов четыре: *Code*, *Markdown*, *RawNBConvert* и *Heading*.\n",
    "\n",
    "* *Code*: ячейка с кодом Python;\n",
    "* *Markdown*: ячейка с размеченным текстом, язык разметки Markdown;\n",
    "* *RawNBConvert*: неразмеченный «сырой» текст, без курсива/полужирного шрифта;\n",
    "* *Heading*: устарел, раньше использовался для заголовков, сейчас их нужно создавать в режиме *Markdown*.\n",
    "\n",
    "Примеры ячеек с размеченным текстом (язык разметки Markdown, почитать про него можно [здесь](https://jupyter-notebook.readthedocs.io/en/latest/examples/Notebook/Working%20With%20Markdown%20Cells.html) и [здесь](http://nestacms.com/docs/creating-content/markdown-cheat-sheet)) — см. ниже.\n",
    "\n",
    "### Что можно делать с помощью Markdown?\n",
    "\n",
    "Выделять заголовки разных уровней.\n",
    "\n",
    "На входе:\n",
    "\n",
    "    # Заголовок 1\n",
    "    ## Заголовок 2\n",
    "    ### Заголовок 3\n",
    "    \n",
    "На выходе:\n",
    "\n",
    "# Заголовок 1\n",
    "## Заголовок 2\n",
    "### Заголовок 3\n",
    "\n",
    "Выделять части текста с помощью *курсива* или **полужирного начертания**. Или даже <s>зачеркивать</s>. Вот так этот текст выглядит в размеченном виде:\n",
    "\n",
    "       Выделять части текста с помощью *курсива* или **полужирного начертания**. Или даже <s>зачеркивать</s>.\n",
    "\n",
    "Добавлять списки разного вида. \n",
    "\n",
    "**Ненумерованный список.** \n",
    "\n",
    "На входе:\n",
    "\n",
    "    * пункт 1\n",
    "    * пункт 2\n",
    "    * пункт 3\n",
    "\n",
    "На выходе:\n",
    "\n",
    "* пункт 1\n",
    "* пункт 2\n",
    "* пункт 3\n",
    "\n",
    "**Нумерованный список:**\n",
    "\n",
    "На входе:\n",
    "\n",
    "    1. Во-первых,...\n",
    "    2. Во-вторых,...\n",
    "    3. В-третьих,...\n",
    "    \n",
    "На выходе: \n",
    "\n",
    "1. Во-первых,...\n",
    "2. Во-вторых,...\n",
    "3. В-третьих,...\n"
   ]
  },
  {
   "cell_type": "markdown",
   "metadata": {},
   "source": [
    "## 1. Команды вывода и ввода"
   ]
  },
  {
   "cell_type": "markdown",
   "metadata": {},
   "source": [
    "Вывод данных - команда print()\n",
    "\n",
    "Ввод данных - команда input()"
   ]
  },
  {
   "cell_type": "markdown",
   "metadata": {},
   "source": [
    "Для вывода данных на экран используется команда print().\n",
    "\n",
    "Внутри круглых скобок пишем, что хотим вывести на экран. Если это текст, то обязательно указываем его внутри кавычек. Кавычки могут быть одинарными или двойными. Только обязательно ставим одинаковые до и после текста.\n"
   ]
  },
  {
   "cell_type": "code",
   "execution_count": 67,
   "metadata": {},
   "outputs": [
    {
     "name": "stdout",
     "output_type": "stream",
     "text": [
      "Мы изучаем язык Python\n"
     ]
    }
   ],
   "source": [
    "print('Мы изучаем язык Python')"
   ]
  },
  {
   "cell_type": "markdown",
   "metadata": {},
   "source": [
    "То, что мы пишем в круглых скобках у команды print(), называется аргументами или параметрами команды.\n",
    "\n",
    "Команда print() позволяет указывать несколько аргументов, в таком случае их надо отделять запятыми:"
   ]
  },
  {
   "cell_type": "code",
   "execution_count": 2,
   "metadata": {},
   "outputs": [
    {
     "name": "stdout",
     "output_type": "stream",
     "text": [
      "Скоро я буду программировать на языке Python!\n"
     ]
    }
   ],
   "source": [
    "print('Скоро я', 'буду программировать', 'на языке', 'Python!')"
   ]
  },
  {
   "cell_type": "markdown",
   "metadata": {},
   "source": [
    "Каждая последующая команда print() выводит указанный текст с новой строки. Например:"
   ]
  },
  {
   "cell_type": "code",
   "execution_count": 3,
   "metadata": {},
   "outputs": [
    {
     "name": "stdout",
     "output_type": "stream",
     "text": [
      "Какой хороший день!\n",
      "Работать мне не лень!\n"
     ]
    }
   ],
   "source": [
    "print('Какой хороший день!')\n",
    "print('Работать мне не лень!')"
   ]
  },
  {
   "cell_type": "code",
   "execution_count": 4,
   "metadata": {},
   "outputs": [
    {
     "name": "stdout",
     "output_type": "stream",
     "text": [
      "Какой хороший день!\n",
      "\n",
      "Работать мне не лень!\n"
     ]
    }
   ],
   "source": [
    "print('Какой хороший день!')\n",
    "print()\n",
    "print('Работать мне не лень!')"
   ]
  },
  {
   "cell_type": "markdown",
   "metadata": {},
   "source": [
    "Все предыдущие программы выводили на экран текст, известный в момент написания программного кода. Однако программы могут работать с данными, которые станут известны только во время выполнения программы. Другими словами, программы могут считывать данные, а затем их использовать.\n",
    "\n",
    "Для считывания данных в языке Python используется команда input().\n"
   ]
  },
  {
   "cell_type": "code",
   "execution_count": 68,
   "metadata": {},
   "outputs": [
    {
     "name": "stdout",
     "output_type": "stream",
     "text": [
      "Как тебя зовут?\n",
      "Саша\n",
      "Привет, Саша\n"
     ]
    }
   ],
   "source": [
    "print('Как тебя зовут?')\n",
    "name = input()\n",
    "print('Привет,', name)"
   ]
  },
  {
   "cell_type": "markdown",
   "metadata": {},
   "source": [
    "Сначала программа распечатает текст на экран «Как тебя зовут?». Далее программа будет ждать от пользователя ввода данных. Ввод данных реализуется с помощью команды input()."
   ]
  },
  {
   "cell_type": "markdown",
   "metadata": {},
   "source": [
    "Команда input() всегда пишется с круглыми скобками. Она работает так: когда программа доходит до места, где есть input(), она ждет, пока пользователь введёт текст с клавиатуры (ввод завершается нажатием клавиши Enter). Введенная строка подставляется на место input().\n",
    "\n",
    "То есть, если вы ввели строку «Саша», программа дальше будет работать так, как будто на месте input() было написано «Саша».\n",
    "\n",
    "Таким образом, input() получает от пользователя какие-то данные и вместо вызова подставляет строковое значение, в нашем случае записывает его в качестве значения переменной name."
   ]
  },
  {
   "cell_type": "code",
   "execution_count": 69,
   "metadata": {},
   "outputs": [
    {
     "name": "stdout",
     "output_type": "stream",
     "text": [
      "Как тебя зовут?Саша\n",
      "Привет, Саша\n"
     ]
    }
   ],
   "source": [
    "# аналогично\n",
    "\n",
    "name = input('Как тебя зовут?')\n",
    "print('Привет,', name)"
   ]
  },
  {
   "cell_type": "markdown",
   "metadata": {},
   "source": [
    "## 2. Целые числа и арифм. операции"
   ]
  },
  {
   "cell_type": "markdown",
   "metadata": {},
   "source": [
    "Все предыдущие программы, которые мы писали, работали с текстовыми данными. Действительно, команда input() считывает строку текста. Однако во многих случаях нам нужно работать именно с числами. Чтобы в Python создать переменную целого типа данных, нужно опустить кавычки при объявлении переменной. Рассмотрим следующий код:"
   ]
  },
  {
   "cell_type": "code",
   "execution_count": 7,
   "metadata": {},
   "outputs": [
    {
     "name": "stdout",
     "output_type": "stream",
     "text": [
      "17\n"
     ]
    }
   ],
   "source": [
    "num1 = 7            \n",
    "num2 = 10           \n",
    "num3 = num1 + num2  \n",
    "print(num3)"
   ]
  },
  {
   "cell_type": "markdown",
   "metadata": {},
   "source": [
    "Основные операции\n",
    "* +\n",
    "* −\n",
    "* * \n",
    "* /\n",
    "* // - целочисленное деление\n",
    "* % - остаток от деления\n",
    "* ** - возведение в степень"
   ]
  },
  {
   "cell_type": "markdown",
   "metadata": {},
   "source": [
    "#### ! Оператор нахождения остатка очень полезен при решении многих задач. Например, число делится на n нацело тогда и только тогда, когда остаток от деления на n равен 0."
   ]
  },
  {
   "cell_type": "code",
   "execution_count": 8,
   "metadata": {},
   "outputs": [
    {
     "name": "stdout",
     "output_type": "stream",
     "text": [
      "1.7\n",
      "1\n",
      "7\n"
     ]
    }
   ],
   "source": [
    "num1 = 17            \n",
    "num2 = 10 \n",
    "print(num1/num2)\n",
    "print(num1//num2)\n",
    "print(num1%num2)"
   ]
  },
  {
   "cell_type": "markdown",
   "metadata": {},
   "source": [
    "### Преобразование типов"
   ]
  },
  {
   "cell_type": "markdown",
   "metadata": {},
   "source": [
    "#### Преобразование строки к целому числу. \n",
    "\n",
    "Для того, чтобы преобразовать строку к целому числу, мы используем команду int()."
   ]
  },
  {
   "cell_type": "code",
   "execution_count": 9,
   "metadata": {},
   "outputs": [],
   "source": [
    "s = '1992'\n",
    "year = int(s)"
   ]
  },
  {
   "cell_type": "markdown",
   "metadata": {},
   "source": [
    "Переменная s имеет строковый тип данных. С помощью команды int(), мы преобразовали строку к целому числу и записали результат в переменную с именем year.  Мы используем новую команду (точнее, функцию) – int(). Она означает следующее: «Возьми то, что указано в качестве аргумента в скобках, и преврати это в целое число». Таким образом, переменная year имеет целый тип данных, а переменная s – строковый тип данных."
   ]
  },
  {
   "cell_type": "markdown",
   "metadata": {},
   "source": [
    "Напишем программу, которая считывает два целых числа и выводит на экран их сумму. Следующий код тут не сработает:"
   ]
  },
  {
   "cell_type": "code",
   "execution_count": 10,
   "metadata": {},
   "outputs": [
    {
     "name": "stdout",
     "output_type": "stream",
     "text": [
      "\n",
      "\n",
      "\n"
     ]
    }
   ],
   "source": [
    "# отредактировать (num1 и num2 - строки)\n",
    "\n",
    "num1 = input()\n",
    "num2 = input()\n",
    "print(num1 + num2)"
   ]
  },
  {
   "cell_type": "markdown",
   "metadata": {},
   "source": [
    "#### Преобразование целого числа к строке. \n",
    "\n",
    "Для того, чтобы преобразовать целое число в строку, мы используем команду str()."
   ]
  },
  {
   "cell_type": "code",
   "execution_count": 11,
   "metadata": {},
   "outputs": [],
   "source": [
    "num = 17\n",
    "s = str(17)"
   ]
  },
  {
   "cell_type": "markdown",
   "metadata": {},
   "source": [
    "Переменная num имеет целый тип данных. С помощью команды str() мы преобразовали целое число в строку и записали результат в переменную s. Таким образом, переменная num имеет целочисленный тип данных, а переменная s – строковый тип данных."
   ]
  },
  {
   "cell_type": "markdown",
   "metadata": {},
   "source": [
    "## 3. Строки"
   ]
  },
  {
   "cell_type": "markdown",
   "metadata": {},
   "source": [
    "Строки в Python - упорядоченные последовательности символов, используемые для хранения и представления текстовой информации, поэтому с помощью строк можно работать со всем, что может быть представлено в текстовой форме."
   ]
  },
  {
   "cell_type": "markdown",
   "metadata": {},
   "source": [
    "#### Возможные операции со строками:"
   ]
  },
  {
   "cell_type": "markdown",
   "metadata": {},
   "source": [
    "* Cложение:"
   ]
  },
  {
   "cell_type": "code",
   "execution_count": 33,
   "metadata": {},
   "outputs": [
    {
     "name": "stdout",
     "output_type": "stream",
     "text": [
      "today\n"
     ]
    }
   ],
   "source": [
    "slovo1 = 'to'\n",
    "slovo2 = 'day'\n",
    "print(slovo1 + slovo2)\n"
   ]
  },
  {
   "cell_type": "markdown",
   "metadata": {},
   "source": [
    "* Дублирование:"
   ]
  },
  {
   "cell_type": "code",
   "execution_count": 34,
   "metadata": {},
   "outputs": [
    {
     "name": "stdout",
     "output_type": "stream",
     "text": [
      "ураураура\n"
     ]
    }
   ],
   "source": [
    "print('ура' * 3)"
   ]
  },
  {
   "cell_type": "markdown",
   "metadata": {},
   "source": [
    "* Длина строки:"
   ]
  },
  {
   "cell_type": "code",
   "execution_count": 35,
   "metadata": {},
   "outputs": [
    {
     "data": {
      "text/plain": [
       "6"
      ]
     },
     "execution_count": 35,
     "metadata": {},
     "output_type": "execute_result"
    }
   ],
   "source": [
    "len('python')"
   ]
  },
  {
   "cell_type": "markdown",
   "metadata": {},
   "source": [
    "* Доступ по индексу:"
   ]
  },
  {
   "cell_type": "code",
   "execution_count": 36,
   "metadata": {},
   "outputs": [],
   "source": [
    "S = 'today'"
   ]
  },
  {
   "cell_type": "code",
   "execution_count": 37,
   "metadata": {},
   "outputs": [
    {
     "data": {
      "text/plain": [
       "'d'"
      ]
     },
     "execution_count": 37,
     "metadata": {},
     "output_type": "execute_result"
    }
   ],
   "source": [
    "S[2]"
   ]
  },
  {
   "cell_type": "code",
   "execution_count": 38,
   "metadata": {},
   "outputs": [
    {
     "data": {
      "text/plain": [
       "'a'"
      ]
     },
     "execution_count": 38,
     "metadata": {},
     "output_type": "execute_result"
    }
   ],
   "source": [
    "S[-2]"
   ]
  },
  {
   "cell_type": "markdown",
   "metadata": {},
   "source": [
    "* Извлечение среза:"
   ]
  },
  {
   "cell_type": "code",
   "execution_count": 39,
   "metadata": {},
   "outputs": [],
   "source": [
    "s = 'today'"
   ]
  },
  {
   "cell_type": "code",
   "execution_count": 40,
   "metadata": {},
   "outputs": [
    {
     "data": {
      "text/plain": [
       "'day'"
      ]
     },
     "execution_count": 40,
     "metadata": {},
     "output_type": "execute_result"
    }
   ],
   "source": [
    "s[2:5]"
   ]
  },
  {
   "cell_type": "code",
   "execution_count": 41,
   "metadata": {},
   "outputs": [
    {
     "data": {
      "text/plain": [
       "'day'"
      ]
     },
     "execution_count": 41,
     "metadata": {},
     "output_type": "execute_result"
    }
   ],
   "source": [
    "s[2:]"
   ]
  },
  {
   "cell_type": "code",
   "execution_count": 42,
   "metadata": {},
   "outputs": [
    {
     "data": {
      "text/plain": [
       "'to'"
      ]
     },
     "execution_count": 42,
     "metadata": {},
     "output_type": "execute_result"
    }
   ],
   "source": [
    "s[:2]"
   ]
  },
  {
   "cell_type": "code",
   "execution_count": 43,
   "metadata": {},
   "outputs": [
    {
     "data": {
      "text/plain": [
       "'yadot'"
      ]
     },
     "execution_count": 43,
     "metadata": {},
     "output_type": "execute_result"
    }
   ],
   "source": [
    "# строка наоборот\n",
    "s[::-1]"
   ]
  },
  {
   "cell_type": "markdown",
   "metadata": {},
   "source": [
    "S[i:j:step]"
   ]
  },
  {
   "cell_type": "code",
   "execution_count": 44,
   "metadata": {},
   "outputs": [
    {
     "data": {
      "text/plain": [
       "'oa'"
      ]
     },
     "execution_count": 44,
     "metadata": {},
     "output_type": "execute_result"
    }
   ],
   "source": [
    "s[1:5:2]"
   ]
  },
  {
   "cell_type": "markdown",
   "metadata": {},
   "source": [
    "### + рекомендую ознакомиться с функциями и методами строк из презентации на 1 лекции"
   ]
  },
  {
   "cell_type": "markdown",
   "metadata": {},
   "source": [
    "## 4. Списки"
   ]
  },
  {
   "cell_type": "markdown",
   "metadata": {},
   "source": [
    "Список - это непрерывная динамическая коллекция элементов. Каждому элементу списка присваивается порядковый номер - его индекс. Первый индекс равен нулю, второй - единице и так далее. Основные операции для работы со списками - это индексирование, срезы, добавление и удаление элементов, а также проверка на наличие элемента в последовательности."
   ]
  },
  {
   "cell_type": "markdown",
   "metadata": {},
   "source": [
    "Создание пустого списка выглядит так:"
   ]
  },
  {
   "cell_type": "code",
   "execution_count": 45,
   "metadata": {},
   "outputs": [],
   "source": [
    "empty_list = []"
   ]
  },
  {
   "cell_type": "markdown",
   "metadata": {},
   "source": [
    "Создадим список, состоящий из нескольких чисел:"
   ]
  },
  {
   "cell_type": "code",
   "execution_count": 46,
   "metadata": {},
   "outputs": [],
   "source": [
    "numbers = [40, 20, 90, 11, 5]"
   ]
  },
  {
   "cell_type": "markdown",
   "metadata": {},
   "source": [
    "Создадим список, состоящий из строковых переменных:"
   ]
  },
  {
   "cell_type": "code",
   "execution_count": 47,
   "metadata": {},
   "outputs": [],
   "source": [
    "fruits = ['Apple', 'Grape', 'Peach', 'Banan', 'Orange']"
   ]
  },
  {
   "cell_type": "markdown",
   "metadata": {},
   "source": [
    "Мы можем создать список, состоящий из различных типов данных:"
   ]
  },
  {
   "cell_type": "code",
   "execution_count": 48,
   "metadata": {},
   "outputs": [],
   "source": [
    "values = [3.14, 10, 'Hello world!', False, 'Python is the best']"
   ]
  },
  {
   "cell_type": "markdown",
   "metadata": {},
   "source": [
    "#### Индексирование - операция обращения к элементу по его порядковому номеру"
   ]
  },
  {
   "cell_type": "code",
   "execution_count": 49,
   "metadata": {},
   "outputs": [
    {
     "name": "stdout",
     "output_type": "stream",
     "text": [
      "Apple\n",
      "Grape\n",
      "Orange\n"
     ]
    }
   ],
   "source": [
    "print(fruits[0])\n",
    "print(fruits[1])\n",
    "print(fruits[4])"
   ]
  },
  {
   "cell_type": "markdown",
   "metadata": {},
   "source": [
    "Списки в Python являются изменяемым типом данных:"
   ]
  },
  {
   "cell_type": "code",
   "execution_count": 50,
   "metadata": {},
   "outputs": [
    {
     "name": "stdout",
     "output_type": "stream",
     "text": [
      "['Apple', 'Grape', 'Peach', 'Banan', 'Orange']\n",
      "['Watermelon', 'Grape', 'Peach', 'Lemon', 'Orange']\n"
     ]
    }
   ],
   "source": [
    "print(fruits)\n",
    "fruits[0] = 'Watermelon'\n",
    "fruits[3] = 'Lemon'\n",
    "print(fruits)"
   ]
  },
  {
   "cell_type": "markdown",
   "metadata": {},
   "source": [
    "### Создание списка с помощью list():"
   ]
  },
  {
   "cell_type": "code",
   "execution_count": 51,
   "metadata": {},
   "outputs": [
    {
     "name": "stdout",
     "output_type": "stream",
     "text": [
      "['a', 'b', 'c', 'd', 'e', 'f']\n"
     ]
    }
   ],
   "source": [
    "letters = list('abcdef')\n",
    "print(letters)"
   ]
  },
  {
   "cell_type": "code",
   "execution_count": 52,
   "metadata": {},
   "outputs": [
    {
     "name": "stdout",
     "output_type": "stream",
     "text": [
      "[0, 1, 2, 3, 4, 5, 6, 7, 8, 9]\n",
      "[0, 2, 4, 6, 8]\n"
     ]
    }
   ],
   "source": [
    "numbers = list(range(10))\n",
    "even_numbers = list(range(0, 10, 2))\n",
    "print(numbers)\n",
    "print(even_numbers)"
   ]
  },
  {
   "cell_type": "markdown",
   "metadata": {},
   "source": [
    "* Длина списка:"
   ]
  },
  {
   "cell_type": "code",
   "execution_count": 53,
   "metadata": {},
   "outputs": [
    {
     "data": {
      "text/plain": [
       "6"
      ]
     },
     "execution_count": 53,
     "metadata": {},
     "output_type": "execute_result"
    }
   ],
   "source": [
    "len(letters)"
   ]
  },
  {
   "cell_type": "markdown",
   "metadata": {},
   "source": [
    "* Срезы:"
   ]
  },
  {
   "cell_type": "code",
   "execution_count": 54,
   "metadata": {},
   "outputs": [
    {
     "name": "stdout",
     "output_type": "stream",
     "text": [
      "['Apple', 'Grape', 'Peach']\n"
     ]
    }
   ],
   "source": [
    "fruits = ['Apple', 'Grape', 'Peach', 'Banan', 'Orange']\n",
    "part_of_fruits = fruits[0:3]\n",
    "print(part_of_fruits)"
   ]
  },
  {
   "cell_type": "markdown",
   "metadata": {},
   "source": [
    "### + рекомендую ознакомиться с методами для работы со списками в презентации с 1 лекции"
   ]
  },
  {
   "cell_type": "markdown",
   "metadata": {},
   "source": [
    "## Задачи для самостоятельного выполнения."
   ]
  },
  {
   "cell_type": "markdown",
   "metadata": {},
   "source": [
    "### Задача 1.\n",
    "\n",
    "Имеется список городов:\n",
    "\n",
    "cities = [\"Москва\", \"Ульяновск\", \"Самара\", \"Тверь\", \"Вологда\", \"Омск\", \"Уфа\"]\n",
    "\n",
    "Необходимо с помощью срезов выбрать из него города через один (начиная с третьего по порядку элемента) и результат вывести на экран.\n",
    "\n",
    "\n",
    "Hint: чтобы написать строку S наоборот, используем S[::-1]"
   ]
  },
  {
   "cell_type": "markdown",
   "metadata": {},
   "source": [
    "### Задача 2.\n",
    "\n",
    "Напишите программу, которая будет считывать имя пользователя и выводить на экран \"Привет,  [name]!\".\n",
    "\n"
   ]
  },
  {
   "cell_type": "markdown",
   "metadata": {},
   "source": [
    "### Задача 3.\n",
    "\n",
    "Вводится число. Если оно отрицательное, вывести \"Отрицательное\", иначе - \"Неотрицательное\".\n"
   ]
  },
  {
   "cell_type": "markdown",
   "metadata": {},
   "source": [
    "### Ответы к задачам"
   ]
  },
  {
   "cell_type": "markdown",
   "metadata": {},
   "source": [
    "#### Задача 1."
   ]
  },
  {
   "cell_type": "code",
   "execution_count": 3,
   "metadata": {},
   "outputs": [
    {
     "name": "stdout",
     "output_type": "stream",
     "text": [
      "['Самара', 'Вологда', 'Уфа']\n"
     ]
    }
   ],
   "source": [
    "cities = [\"Москва\", \"Ульяновск\", \"Самара\", \"Тверь\", \"Вологда\", \"Омск\", \"Уфа\"]\n",
    "\n",
    "print(cities[2::2])"
   ]
  },
  {
   "cell_type": "markdown",
   "metadata": {},
   "source": [
    "#### Задача 2."
   ]
  },
  {
   "cell_type": "code",
   "execution_count": 1,
   "metadata": {},
   "outputs": [
    {
     "name": "stdout",
     "output_type": "stream",
     "text": [
      "Маша\n",
      "Привет, Маша!\n"
     ]
    }
   ],
   "source": [
    "name = input()\n",
    "print('Привет, ' + name + '!')"
   ]
  },
  {
   "cell_type": "markdown",
   "metadata": {},
   "source": [
    "#### Задача 3."
   ]
  },
  {
   "cell_type": "code",
   "execution_count": 7,
   "metadata": {},
   "outputs": [
    {
     "name": "stdout",
     "output_type": "stream",
     "text": [
      "-5\n",
      "Отрицательное\n"
     ]
    }
   ],
   "source": [
    "number = int(input())\n",
    "if number<0:\n",
    "    print('Отрицательное')\n",
    "else:\n",
    "    print('Неотрицательное')  "
   ]
  }
 ],
 "metadata": {
  "kernelspec": {
   "display_name": "Python 3 (ipykernel)",
   "language": "python",
   "name": "python3"
  },
  "language_info": {
   "codemirror_mode": {
    "name": "ipython",
    "version": 3
   },
   "file_extension": ".py",
   "mimetype": "text/x-python",
   "name": "python",
   "nbconvert_exporter": "python",
   "pygments_lexer": "ipython3",
   "version": "3.11.4"
  }
 },
 "nbformat": 4,
 "nbformat_minor": 4
}
