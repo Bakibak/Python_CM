{
 "cells": [
  {
   "cell_type": "markdown",
   "metadata": {},
   "source": [
    "# Введение в Python (продолжение).\n",
    "\n",
    "__Валерия Бакланова (vbaklanova@hse.ru)__"
   ]
  },
  {
   "cell_type": "markdown",
   "metadata": {},
   "source": [
    "## 5. Условная конструкция if-elif-else\n",
    "\n",
    "Основной инструмент выбора в Python. Конструкция выбирает, какое действие следует выполнить в зависимости от значения переменных в момент проверки условия.\n",
    "\n",
    "По-другому условную конструкцию называют оператором ветвления.\n"
   ]
  },
  {
   "cell_type": "markdown",
   "metadata": {},
   "source": [
    "1. if\n",
    "\n",
    "if позволяет выполнить определенный набор инструкций в зависимости от некоторого условия. "
   ]
  },
  {
   "cell_type": "markdown",
   "metadata": {},
   "source": [
    "После оператора if  записывается выражение. Если это выражение истинно, то выполняются инструкции, определяемые данным оператором. После выражения нужно поставить двоеточие “:”."
   ]
  },
  {
   "cell_type": "markdown",
   "metadata": {},
   "source": [
    "Блок кода, который необходимо выполнить, в случае истинности выражения, отделяется четырьмя пробелами слева или tab"
   ]
  },
  {
   "cell_type": "markdown",
   "metadata": {},
   "source": [
    "if выражение:\n",
    "    инструкция_1\n",
    "    инструкция_2\n",
    "    ...\n",
    "    инструкция_n\n",
    "    "
   ]
  },
  {
   "cell_type": "code",
   "execution_count": 12,
   "metadata": {},
   "outputs": [
    {
     "name": "stdout",
     "output_type": "stream",
     "text": [
      "All right\n"
     ]
    }
   ],
   "source": [
    "a = 3\n",
    "if a > 1:\n",
    "   print(\"All right\")"
   ]
  },
  {
   "cell_type": "markdown",
   "metadata": {},
   "source": [
    "2. if – else\n"
   ]
  },
  {
   "cell_type": "markdown",
   "metadata": {},
   "source": [
    "Бывают случаи, когда необходимо предусмотреть альтернативный вариант выполнения программы. Т.е. при истинном условии нужно выполнить один набор инструкций, при ложном – другой. Для этого используется конструкция if – else.\n"
   ]
  },
  {
   "cell_type": "markdown",
   "metadata": {},
   "source": [
    "if выражение:\n",
    "    инструкция_1\n",
    "    инструкция_2\n",
    "    ...\n",
    "    инструкция_n\n",
    "else:\n",
    "    инструкция_a\n",
    "    инструкция_b\n",
    "    ...\n",
    "    инструкция_x"
   ]
  },
  {
   "cell_type": "code",
   "execution_count": 13,
   "metadata": {},
   "outputs": [
    {
     "name": "stdout",
     "output_type": "stream",
     "text": [
      "negative\n"
     ]
    }
   ],
   "source": [
    "a = -10\n",
    "if a > 0:\n",
    "   print(\"positive\")\n",
    "else:\n",
    "   print(\"negative\")"
   ]
  },
  {
   "cell_type": "markdown",
   "metadata": {},
   "source": [
    "3. if – elif - else\n"
   ]
  },
  {
   "cell_type": "markdown",
   "metadata": {},
   "source": [
    "Используется для реализации выбора из нескольких альтернатив."
   ]
  },
  {
   "cell_type": "markdown",
   "metadata": {},
   "source": [
    "if выражение_1:\n",
    "    инструкции_1\n",
    "    \n",
    "elif выражение_2:\n",
    "    инструкции_2\n",
    "    \n",
    "elif выражение_3:\n",
    "    инструкции_3\n",
    "    \n",
    "else:\n",
    "    инструкции_4"
   ]
  },
  {
   "cell_type": "code",
   "execution_count": 15,
   "metadata": {},
   "outputs": [
    {
     "name": "stdout",
     "output_type": "stream",
     "text": [
      "введите число:10\n",
      "Positive\n"
     ]
    }
   ],
   "source": [
    "a = int(input(\"введите число:\"))\n",
    "if a < 0:\n",
    "   print(\"Negative\")\n",
    "elif a == 0:\n",
    "   print(\"Zero\")\n",
    "else:\n",
    "   print(\"Positive\")"
   ]
  },
  {
   "cell_type": "markdown",
   "metadata": {},
   "source": [
    "## 6. Циклы"
   ]
  },
  {
   "cell_type": "markdown",
   "metadata": {},
   "source": [
    "### Цикл for \n",
    "\n",
    "Используется для перебора последовательностей (списков, кортежей, строк) и других итерируемых объектов."
   ]
  },
  {
   "cell_type": "markdown",
   "metadata": {},
   "source": [
    "Cинтаксис:\n",
    "\n"
   ]
  },
  {
   "cell_type": "markdown",
   "metadata": {},
   "source": [
    "for [элемент] in [последовательность]:\n",
    "       \n",
    "      [тело цикла]"
   ]
  },
  {
   "cell_type": "markdown",
   "metadata": {},
   "source": [
    "Упрощают жизнь:"
   ]
  },
  {
   "cell_type": "code",
   "execution_count": 16,
   "metadata": {},
   "outputs": [
    {
     "name": "stdout",
     "output_type": "stream",
     "text": [
      "1\n",
      "2\n",
      "3\n",
      "4\n",
      "5\n",
      "6\n",
      "7\n",
      "8\n",
      "9\n",
      "10\n"
     ]
    }
   ],
   "source": [
    "print(1)\n",
    "print(2)\n",
    "print(3)\n",
    "print(4)\n",
    "print(5)\n",
    "print(6)\n",
    "print(7)\n",
    "print(8)\n",
    "print(9)\n",
    "print(10)"
   ]
  },
  {
   "cell_type": "code",
   "execution_count": 17,
   "metadata": {
    "scrolled": true
   },
   "outputs": [
    {
     "name": "stdout",
     "output_type": "stream",
     "text": [
      "1\n",
      "2\n",
      "3\n",
      "4\n",
      "5\n",
      "6\n",
      "7\n",
      "8\n",
      "9\n",
      "10\n"
     ]
    }
   ],
   "source": [
    "# быстрая альтернатива\n",
    "\n",
    "for i in range(1,11):\n",
    "    print(i)\n"
   ]
  },
  {
   "cell_type": "markdown",
   "metadata": {},
   "source": [
    "#### Функция range  позволяет сгенерировать последовательность от 1 до 10, а не перечислять все числа по очереди, как мы бы делали в случае списка."
   ]
  },
  {
   "cell_type": "code",
   "execution_count": 18,
   "metadata": {},
   "outputs": [
    {
     "name": "stdout",
     "output_type": "stream",
     "text": [
      "1\n",
      "2\n",
      "3\n",
      "4\n",
      "5\n",
      "6\n",
      "7\n",
      "8\n",
      "9\n",
      "10\n"
     ]
    }
   ],
   "source": [
    "for i in [1,2,3,4,5,6,7,8,9,10]:\n",
    "    print(i)"
   ]
  },
  {
   "cell_type": "markdown",
   "metadata": {},
   "source": [
    "В циклах в языке Python можно использовать ещё три оператора:\n",
    "\n",
    "●\tbreak прерывает цикл, например, при выполнении конкретного условия. Его используют, если при каком-то значении переменной работу цикла нужно немедленно прекратить.\n",
    "\n",
    "●\tcontinue, наоборот, мгновенно заставляет программу перейти к началу цикла и начать следующую итерацию. Его используют, чтобы при определённых условиях пропустить часть действий из тела цикла и сразу начать новое повторение. \n",
    "\n",
    "●\telse - блок операторов, исполняемых при штатном завершении цикла"
   ]
  },
  {
   "cell_type": "code",
   "execution_count": 19,
   "metadata": {},
   "outputs": [
    {
     "name": "stdout",
     "output_type": "stream",
     "text": [
      "i: 1\n",
      "z: 1\n",
      "--\n",
      "i: 3\n",
      "z: 4\n",
      "--\n",
      "i: 5\n",
      "z: 9\n",
      "--\n",
      "i: 7\n",
      "z: 16\n",
      "--\n",
      "i: 9\n",
      "z: 25\n",
      "--\n"
     ]
    }
   ],
   "source": [
    "z = 0\n",
    "for i in range(1,11):\n",
    "    if i%2 == 0:\n",
    "        continue\n",
    "    \n",
    "    z = z+i\n",
    "    \n",
    "    print(\"i:\",i)\n",
    "    print(\"z:\",z)\n",
    "    print('--')"
   ]
  },
  {
   "cell_type": "code",
   "execution_count": 20,
   "metadata": {},
   "outputs": [
    {
     "data": {
      "text/plain": [
       "25"
      ]
     },
     "execution_count": 20,
     "metadata": {},
     "output_type": "execute_result"
    }
   ],
   "source": [
    "z"
   ]
  },
  {
   "cell_type": "markdown",
   "metadata": {},
   "source": [
    "### Цикл while \n",
    "\n",
    "«While» можно перевести с английского как «до тех пор, пока». Этот оператор будет выполнять тело цикла до тех пор, пока выражение в его условии остаётся истинным."
   ]
  },
  {
   "cell_type": "code",
   "execution_count": 21,
   "metadata": {},
   "outputs": [
    {
     "name": "stdout",
     "output_type": "stream",
     "text": [
      "Цикл выполнился 1 раз(а)\n",
      "Цикл выполнился 2 раз(а)\n",
      "Цикл выполнился 3 раз(а)\n",
      "Цикл выполнился 4 раз(а)\n",
      "Цикл выполнился 5 раз(а)\n"
     ]
    }
   ],
   "source": [
    "n = 1\n",
    "\n",
    "while n < 6:      \n",
    "        print('Цикл выполнился', n, 'раз(а)')\n",
    "        n = n+1"
   ]
  },
  {
   "cell_type": "markdown",
   "metadata": {},
   "source": [
    "Можно также итерироваться по строке:"
   ]
  },
  {
   "cell_type": "code",
   "execution_count": 22,
   "metadata": {},
   "outputs": [
    {
     "name": "stdout",
     "output_type": "stream",
     "text": [
      "H\n",
      "e\n",
      "l\n",
      "l\n",
      "o\n",
      ",\n",
      " \n",
      "w\n",
      "o\n",
      "r\n",
      "l\n",
      "d\n",
      "!\n"
     ]
    }
   ],
   "source": [
    "word_str = \"Hello, world!\"\n",
    "\n",
    "for n in word_str:\n",
    "\n",
    "     print(n)"
   ]
  },
  {
   "cell_type": "markdown",
   "metadata": {},
   "source": [
    "## 7. Функции"
   ]
  },
  {
   "cell_type": "markdown",
   "metadata": {},
   "source": [
    "Функция в python - объект, принимающий аргументы и возвращающий значение. Функция определяется с помощью инструкции def."
   ]
  },
  {
   "cell_type": "markdown",
   "metadata": {},
   "source": [
    "Функции – это многократно используемые фрагменты программы. Они позволяют дать имя определённому блоку команд с тем, чтобы впоследствии запускать этот блок по указанному имени в любом месте программы и сколь угодно много раз. Это называется вызовом функции."
   ]
  },
  {
   "cell_type": "code",
   "execution_count": 23,
   "metadata": {},
   "outputs": [],
   "source": [
    "def sayHello():\n",
    "    print('Привет, Мир!') # блок, принадлежащий функции\n",
    "    # Конец функции"
   ]
  },
  {
   "cell_type": "code",
   "execution_count": 24,
   "metadata": {},
   "outputs": [
    {
     "name": "stdout",
     "output_type": "stream",
     "text": [
      "Привет, Мир!\n"
     ]
    }
   ],
   "source": [
    "sayHello() "
   ]
  },
  {
   "cell_type": "markdown",
   "metadata": {},
   "source": [
    "Функции могут принимать параметры, т.е. некоторые значения, передаваемые функции для того, чтобы она что-либо сделала с ними. "
   ]
  },
  {
   "cell_type": "code",
   "execution_count": 25,
   "metadata": {},
   "outputs": [],
   "source": [
    "def printMax(a, b):\n",
    "    if a > b:\n",
    "        print(a, 'больше', b)\n",
    "    elif a == b:\n",
    "        print(a, 'равно', b)\n",
    "    else:\n",
    "        print(a, 'меньше', b)"
   ]
  },
  {
   "cell_type": "code",
   "execution_count": 26,
   "metadata": {},
   "outputs": [
    {
     "name": "stdout",
     "output_type": "stream",
     "text": [
      "3 меньше 4\n"
     ]
    }
   ],
   "source": [
    "printMax(3, 4) # прямая передача значений"
   ]
  },
  {
   "cell_type": "code",
   "execution_count": 27,
   "metadata": {},
   "outputs": [
    {
     "name": "stdout",
     "output_type": "stream",
     "text": [
      "5 меньше 7\n"
     ]
    }
   ],
   "source": [
    "x = 5\n",
    "y = 7\n",
    "\n",
    "printMax(x, y) # передача переменных в качестве аргументов"
   ]
  },
  {
   "cell_type": "markdown",
   "metadata": {},
   "source": [
    "#### Значения аргументов по умолчанию"
   ]
  },
  {
   "cell_type": "markdown",
   "metadata": {},
   "source": [
    "Зачастую часть параметров функций могут быть необязательными, и для них будут использоваться некоторые заданные значения по умолчанию, если пользователь не укажет собственных. Этого можно достичь с помощью значений аргументов по умолчанию. Их можно указать, добавив к имени параметра в определении функции оператор присваивания (=) с последующим значением."
   ]
  },
  {
   "cell_type": "code",
   "execution_count": 71,
   "metadata": {},
   "outputs": [
    {
     "name": "stdout",
     "output_type": "stream",
     "text": [
      "Привет\n",
      "ПриветПриветПривет\n"
     ]
    }
   ],
   "source": [
    "def say(message, times = 1):\n",
    "    print(message * times)\n",
    "\n",
    "say('Привет')\n",
    "say('Привет', times = 3)"
   ]
  },
  {
   "cell_type": "markdown",
   "metadata": {},
   "source": [
    "### Оператор “return”"
   ]
  },
  {
   "cell_type": "markdown",
   "metadata": {},
   "source": [
    "Оператор return используется для возврата из функции посчитанного значения."
   ]
  },
  {
   "cell_type": "code",
   "execution_count": 29,
   "metadata": {},
   "outputs": [],
   "source": [
    "def add(x, y):\n",
    "    return x + y"
   ]
  },
  {
   "cell_type": "code",
   "execution_count": 30,
   "metadata": {},
   "outputs": [
    {
     "data": {
      "text/plain": [
       "7"
      ]
     },
     "execution_count": 30,
     "metadata": {},
     "output_type": "execute_result"
    }
   ],
   "source": [
    "add(3, 4)"
   ]
  },
  {
   "cell_type": "code",
   "execution_count": 31,
   "metadata": {},
   "outputs": [],
   "source": [
    "def maximum(x, y):\n",
    "    if x > y:\n",
    "        return x\n",
    "    elif x == y:\n",
    "        return 'Числа равны.'\n",
    "    else:\n",
    "        return y"
   ]
  },
  {
   "cell_type": "code",
   "execution_count": 32,
   "metadata": {},
   "outputs": [
    {
     "data": {
      "text/plain": [
       "3"
      ]
     },
     "execution_count": 32,
     "metadata": {},
     "output_type": "execute_result"
    }
   ],
   "source": [
    "maximum(2, 3)"
   ]
  },
  {
   "cell_type": "markdown",
   "metadata": {},
   "source": [
    "## Задачи для самостоятельного выполнения."
   ]
  },
  {
   "cell_type": "markdown",
   "metadata": {},
   "source": [
    "### Задача 1.\n",
    "\n",
    "Вводится слово. Необходимо определить, является ли это слово палиндромом (одинаково читается вперед и назад, например, АННА). Регистр букв не учитывать. Если введенное слово палиндром, на экран вывести ДА, иначе - НЕТ.\n",
    "\n",
    "Hint: чтобы написать строку S наоборот, используем S[::-1]"
   ]
  },
  {
   "cell_type": "markdown",
   "metadata": {},
   "source": [
    "### Задача 2.\n",
    "\n",
    "Напишите функцию, которая будет возвращать факториал числа."
   ]
  },
  {
   "cell_type": "markdown",
   "metadata": {},
   "source": [
    "### Задача 3.\n",
    "\n",
    "На каждой итерации пользователь вводит число. Цикл продолжается, пока пользователь не ввел отрицательное число. Выведите это число на экран."
   ]
  },
  {
   "cell_type": "markdown",
   "metadata": {},
   "source": [
    "### Задача 4.\n",
    "\n",
    "Пользователь вводит названия городов в строчку через пробел. Вывести список с первыми буквами городов."
   ]
  },
  {
   "cell_type": "markdown",
   "metadata": {},
   "source": [
    "### Задача 5.\n",
    "\n",
    "Поочередно вводится 2 строки: сначала слово, затем буква. Напишите программу, которая выведет первый и последний индекс вхождения буквы в слово, если в слове присутствует больше одной введенной буквы."
   ]
  },
  {
   "cell_type": "markdown",
   "metadata": {},
   "source": [
    "## Ответы к задачам."
   ]
  },
  {
   "cell_type": "markdown",
   "metadata": {},
   "source": [
    "### Задача 1."
   ]
  },
  {
   "cell_type": "code",
   "execution_count": null,
   "metadata": {},
   "outputs": [],
   "source": [
    "word = input()\n",
    "\n",
    "if word == word[::-1]:\n",
    "    print(\"ДА\")\n",
    "else:\n",
    "    print(\"НЕТ\")"
   ]
  },
  {
   "cell_type": "markdown",
   "metadata": {},
   "source": [
    "### Задача 2."
   ]
  },
  {
   "cell_type": "code",
   "execution_count": null,
   "metadata": {},
   "outputs": [],
   "source": [
    "def factorial(n):\n",
    "    result = 1\n",
    "    for i in range(1, n+1):\n",
    "        result = result*i\n",
    "    return result"
   ]
  },
  {
   "cell_type": "markdown",
   "metadata": {},
   "source": [
    "### Задача 3."
   ]
  },
  {
   "cell_type": "code",
   "execution_count": null,
   "metadata": {},
   "outputs": [],
   "source": [
    "a = int(input())\n",
    "while a>=0:\n",
    "    a = int(input())\n",
    "print(a)"
   ]
  },
  {
   "cell_type": "markdown",
   "metadata": {},
   "source": [
    "### Задача 4."
   ]
  },
  {
   "cell_type": "code",
   "execution_count": null,
   "metadata": {},
   "outputs": [],
   "source": [
    "towns = input().split()\n",
    "\n",
    "first_towns=[]\n",
    "for i in range(len(towns)):\n",
    "    first_towns.append(towns[i][0])\n",
    "\n",
    "print(first_towns)"
   ]
  },
  {
   "cell_type": "markdown",
   "metadata": {},
   "source": [
    "### Задача 5."
   ]
  },
  {
   "cell_type": "code",
   "execution_count": null,
   "metadata": {},
   "outputs": [],
   "source": [
    "city = input()\n",
    "letter = input()\n",
    "\n",
    "if city.count(letter)>=2:\n",
    "    print(city.find(letter), city.rfind(letter))"
   ]
  }
 ],
 "metadata": {
  "kernelspec": {
   "display_name": "Python 3 (ipykernel)",
   "language": "python",
   "name": "python3"
  },
  "language_info": {
   "codemirror_mode": {
    "name": "ipython",
    "version": 3
   },
   "file_extension": ".py",
   "mimetype": "text/x-python",
   "name": "python",
   "nbconvert_exporter": "python",
   "pygments_lexer": "ipython3",
   "version": "3.11.4"
  }
 },
 "nbformat": 4,
 "nbformat_minor": 4
}
